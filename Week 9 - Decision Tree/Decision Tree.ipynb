{
 "cells": [
  {
   "cell_type": "markdown",
   "metadata": {},
   "source": [
    "## Ex2"
   ]
  },
  {
   "cell_type": "code",
   "execution_count": 35,
   "metadata": {},
   "outputs": [],
   "source": [
    "import numpy as np\n",
    "import pandas as pd\n",
    "import matplotlib.pyplot as plt"
   ]
  },
  {
   "cell_type": "code",
   "execution_count": 2,
   "metadata": {},
   "outputs": [],
   "source": [
    "X = np.array([[1, 3], [2, 2], [3, 2], [4, 1], [4, 2], \n",
    "              [2, 6], [4, 6], [3, 7], [2, 8], [1, 9],\n",
    "              [8, 6], [9, 7], [7, 9], [10, 6], [8, 9],\n",
    "              [8, 4], [9, 1], [10, 3], [8, 3], [9, 3]])\n",
    "y = np.ones(20)\n",
    "y[:5] = 0"
   ]
  },
  {
   "cell_type": "code",
   "execution_count": 3,
   "metadata": {},
   "outputs": [
    {
     "data": {
      "text/plain": [
       "(10,)"
      ]
     },
     "execution_count": 3,
     "metadata": {},
     "output_type": "execute_result"
    }
   ],
   "source": [
    "indx = np.where(X[:, 0] <= 5)\n",
    "y[indx].shape"
   ]
  },
  {
   "cell_type": "code",
   "execution_count": 4,
   "metadata": {},
   "outputs": [
    {
     "data": {
      "text/plain": [
       "(array([0, 1, 2, 3, 4, 5, 6, 7, 8, 9], dtype=int64),)"
      ]
     },
     "execution_count": 4,
     "metadata": {},
     "output_type": "execute_result"
    }
   ],
   "source": [
    "indx"
   ]
  },
  {
   "cell_type": "code",
   "execution_count": 8,
   "metadata": {},
   "outputs": [
    {
     "data": {
      "text/plain": [
       "<matplotlib.collections.PathCollection at 0x1dc9d915c70>"
      ]
     },
     "execution_count": 8,
     "metadata": {},
     "output_type": "execute_result"
    },
    {
     "data": {
      "image/png": "[encoded data removed]",
      "text/plain": [
       "<Figure size 432x288 with 1 Axes>"
      ]
     },
     "metadata": {
      "needs_background": "light"
     },
     "output_type": "display_data"
    }
   ],
   "source": [
    "plt.scatter(X[:, 0], X[:, 1], c=y)"
   ]
  },
  {
   "cell_type": "markdown",
   "metadata": {},
   "source": [
    "### Search x1, x2 in range (0, 10) to find max gini index"
   ]
  },
  {
   "cell_type": "code",
   "execution_count": 9,
   "metadata": {},
   "outputs": [],
   "source": [
    "def calculate_gini(n1, n2):\n",
    "    if n1 + n2 == 0: \n",
    "        return 1\n",
    "    else: \n",
    "        return 1 - (n1/(n1+n2))**2 - (n2/(n1+n2))**2"
   ]
  },
  {
   "cell_type": "code",
   "execution_count": 10,
   "metadata": {},
   "outputs": [
    {
     "data": {
      "text/plain": [
       "0.375"
      ]
     },
     "execution_count": 10,
     "metadata": {},
     "output_type": "execute_result"
    }
   ],
   "source": [
    "calculate_gini(5, 15)"
   ]
  },
  {
   "cell_type": "markdown",
   "metadata": {},
   "source": [
    "#### X0"
   ]
  },
  {
   "cell_type": "code",
   "execution_count": 11,
   "metadata": {},
   "outputs": [
    {
     "data": {
      "text/plain": [
       "[4.0, 4.5, 5.0, 5.5, 6.0, 6.5]"
      ]
     },
     "execution_count": 11,
     "metadata": {},
     "output_type": "execute_result"
    }
   ],
   "source": [
    "g1 = calculate_gini(y.shape[0] - np.sum(y), np.sum(y))\n",
    "G = {}\n",
    "listOfKeys = []\n",
    "\n",
    "for i in np.arange(0, 10, 0.5):\n",
    "\n",
    "    # xét ngưỡng x <= i\n",
    "    indx_below = np.where(X[:,0] <= i)\n",
    "    y_below = y[indx_below]\n",
    "    g2 = calculate_gini(y_below.shape[0] - sum(y_below), sum(y_below))\n",
    "\n",
    "    # x > i\n",
    "    indx_above = np.where(X[:,0] > i)\n",
    "    y_above = y[indx_above]\n",
    "    g3 = calculate_gini(y_above.shape[0] - sum(y_above), sum(y_above))\n",
    "\n",
    "    gini_index = g1 - g2*y_below.shape[0]/y.shape[0] - g3*y_above.shape[0]/y.shape[0]\n",
    "    \n",
    "    G[i] = gini_index\n",
    "\n",
    "\n",
    "gini_index_max = max(G.items(), key=lambda x: x[1])\n",
    "for key, value in G.items():\n",
    "    if value == gini_index_max[1]:\n",
    "        listOfKeys.append(key)"
   ]
  },
  {
   "cell_type": "code",
   "execution_count": 13,
   "metadata": {},
   "outputs": [
    {
     "name": "stdout",
     "output_type": "stream",
     "text": [
      "[4.0, 4.5, 5.0, 5.5, 6.0, 6.5]\n"
     ]
    }
   ],
   "source": [
    "print(listOfKeys)"
   ]
  },
  {
   "cell_type": "code",
   "execution_count": 12,
   "metadata": {},
   "outputs": [
    {
     "name": "stdout",
     "output_type": "stream",
     "text": [
      "{0.0: 0.0, 0.5: 0.0, 1.0: 0.01388888888888895, 1.5: 0.01388888888888895, 2.0: 0.015000000000000152, 2.5: 0.015000000000000152, 3.0: 0.03434065934065933, 3.5: 0.03434065934065933, 4.0: 0.125, 4.5: 0.125, 5.0: 0.125, 5.5: 0.125, 6.0: 0.125, 6.5: 0.125, 7.0: 0.10227272727272724, 7.5: 0.10227272727272724, 8.0: 0.041666666666666685, 8.5: 0.041666666666666685, 9.0: 0.013888888888888895, 9.5: 0.013888888888888895}\n"
     ]
    }
   ],
   "source": [
    "print(G)"
   ]
  },
  {
   "cell_type": "markdown",
   "metadata": {},
   "source": [
    "#### X1"
   ]
  },
  {
   "cell_type": "code",
   "execution_count": 16,
   "metadata": {},
   "outputs": [],
   "source": [
    "g1 = calculate_gini(y.shape[0] - np.sum(y), np.sum(y))\n",
    "G = {}\n",
    "listOfKeys = []\n",
    "\n",
    "for i in np.arange(0, 10, 0.5):\n",
    "\n",
    "    # xét ngưỡng x <= i\n",
    "    indx_below = np.where(X[:,1] <= i)\n",
    "    y_below = y[indx_below]\n",
    "    g2 = calculate_gini(y_below.shape[0] - sum(y_below), sum(y_below))\n",
    "\n",
    "    # x > i\n",
    "    indx_above = np.where(X[:,1] > i)\n",
    "    y_above = y[indx_above]\n",
    "    g3 = calculate_gini(y_above.shape[0] - sum(y_above), sum(y_above))\n",
    "\n",
    "    gini_index = g1 - g2*y_below.shape[0]/y.shape[0] - g3*y_above.shape[0]/y.shape[0]\n",
    "    \n",
    "    G[i] = gini_index\n",
    "\n",
    "\n",
    "gini_index_max = max(G.items(), key=lambda x: x[1])\n",
    "for key, value in G.items():\n",
    "    if value == gini_index_max[1]:\n",
    "        listOfKeys.append(key)"
   ]
  },
  {
   "cell_type": "code",
   "execution_count": 17,
   "metadata": {},
   "outputs": [
    {
     "name": "stdout",
     "output_type": "stream",
     "text": [
      "{0.0: 0.0, 0.5: 0.0, 1.0: 0.01388888888888895, 1.5: 0.01388888888888895, 2.0: 0.20166666666666677, 2.5: 0.20166666666666677, 3.0: 0.15277777777777776, 3.5: 0.15277777777777776, 4.0: 0.125, 4.5: 0.125, 5.0: 0.125, 5.5: 0.125, 6.0: 0.0535714285714286, 6.5: 0.0535714285714286, 7.0: 0.03125, 7.5: 0.03125, 8.0: 0.022058823529411797, 8.5: 0.022058823529411797, 9.0: 0.0, 9.5: 0.0}\n"
     ]
    }
   ],
   "source": [
    "print(G)"
   ]
  },
  {
   "cell_type": "code",
   "execution_count": 18,
   "metadata": {},
   "outputs": [
    {
     "name": "stdout",
     "output_type": "stream",
     "text": [
      "[2.0, 2.5]\n"
     ]
    }
   ],
   "source": [
    "print(listOfKeys)"
   ]
  },
  {
   "cell_type": "markdown",
   "metadata": {},
   "source": [
    "## Ex3"
   ]
  },
  {
   "cell_type": "code",
   "execution_count": 25,
   "metadata": {},
   "outputs": [
    {
     "data": {
      "text/html": [
       "<div>\n",
       "<style scoped>\n",
       "    .dataframe tbody tr th:only-of-type {\n",
       "        vertical-align: middle;\n",
       "    }\n",
       "\n",
       "    .dataframe tbody tr th {\n",
       "        vertical-align: top;\n",
       "    }\n",
       "\n",
       "    .dataframe thead th {\n",
       "        text-align: right;\n",
       "    }\n",
       "</style>\n",
       "<table border=\"1\" class=\"dataframe\">\n",
       "  <thead>\n",
       "    <tr style=\"text-align: right;\">\n",
       "      <th></th>\n",
       "      <th>Lương</th>\n",
       "      <th>Thời gian làm việc</th>\n",
       "      <th>Cho vay</th>\n",
       "    </tr>\n",
       "  </thead>\n",
       "  <tbody>\n",
       "    <tr>\n",
       "      <th>0</th>\n",
       "      <td>10</td>\n",
       "      <td>1.0</td>\n",
       "      <td>1</td>\n",
       "    </tr>\n",
       "    <tr>\n",
       "      <th>1</th>\n",
       "      <td>5</td>\n",
       "      <td>2.0</td>\n",
       "      <td>1</td>\n",
       "    </tr>\n",
       "    <tr>\n",
       "      <th>2</th>\n",
       "      <td>6</td>\n",
       "      <td>1.8</td>\n",
       "      <td>1</td>\n",
       "    </tr>\n",
       "    <tr>\n",
       "      <th>3</th>\n",
       "      <td>7</td>\n",
       "      <td>1.0</td>\n",
       "      <td>1</td>\n",
       "    </tr>\n",
       "    <tr>\n",
       "      <th>4</th>\n",
       "      <td>8</td>\n",
       "      <td>2.0</td>\n",
       "      <td>1</td>\n",
       "    </tr>\n",
       "  </tbody>\n",
       "</table>\n",
       "</div>"
      ],
      "text/plain": [
       "   Lương  Thời gian làm việc  Cho vay\n",
       "0     10                 1.0        1\n",
       "1      5                 2.0        1\n",
       "2      6                 1.8        1\n",
       "3      7                 1.0        1\n",
       "4      8                 2.0        1"
      ]
     },
     "execution_count": 25,
     "metadata": {},
     "output_type": "execute_result"
    }
   ],
   "source": [
    "data = pd.read_csv('https://raw.githubusercontent.com/nttuan8/DL_Tutorial/master/L2/dataset.csv')\n",
    "data.head()"
   ]
  },
  {
   "cell_type": "code",
   "execution_count": 26,
   "metadata": {},
   "outputs": [
    {
     "data": {
      "text/html": [
       "<div>\n",
       "<style scoped>\n",
       "    .dataframe tbody tr th:only-of-type {\n",
       "        vertical-align: middle;\n",
       "    }\n",
       "\n",
       "    .dataframe tbody tr th {\n",
       "        vertical-align: top;\n",
       "    }\n",
       "\n",
       "    .dataframe thead th {\n",
       "        text-align: right;\n",
       "    }\n",
       "</style>\n",
       "<table border=\"1\" class=\"dataframe\">\n",
       "  <thead>\n",
       "    <tr style=\"text-align: right;\">\n",
       "      <th></th>\n",
       "      <th>Salary</th>\n",
       "      <th>Work time</th>\n",
       "      <th>Lend</th>\n",
       "    </tr>\n",
       "  </thead>\n",
       "  <tbody>\n",
       "    <tr>\n",
       "      <th>0</th>\n",
       "      <td>10</td>\n",
       "      <td>1.0</td>\n",
       "      <td>1</td>\n",
       "    </tr>\n",
       "    <tr>\n",
       "      <th>1</th>\n",
       "      <td>5</td>\n",
       "      <td>2.0</td>\n",
       "      <td>1</td>\n",
       "    </tr>\n",
       "    <tr>\n",
       "      <th>2</th>\n",
       "      <td>6</td>\n",
       "      <td>1.8</td>\n",
       "      <td>1</td>\n",
       "    </tr>\n",
       "    <tr>\n",
       "      <th>3</th>\n",
       "      <td>7</td>\n",
       "      <td>1.0</td>\n",
       "      <td>1</td>\n",
       "    </tr>\n",
       "    <tr>\n",
       "      <th>4</th>\n",
       "      <td>8</td>\n",
       "      <td>2.0</td>\n",
       "      <td>1</td>\n",
       "    </tr>\n",
       "  </tbody>\n",
       "</table>\n",
       "</div>"
      ],
      "text/plain": [
       "   Salary  Work time  Lend\n",
       "0      10        1.0     1\n",
       "1       5        2.0     1\n",
       "2       6        1.8     1\n",
       "3       7        1.0     1\n",
       "4       8        2.0     1"
      ]
     },
     "execution_count": 26,
     "metadata": {},
     "output_type": "execute_result"
    }
   ],
   "source": [
    "data = data.rename(columns={'Lương': 'Salary', 'Thời gian làm việc': 'Work time', 'Cho vay': 'Lend'})\n",
    "data.head()"
   ]
  },
  {
   "cell_type": "code",
   "execution_count": 32,
   "metadata": {},
   "outputs": [],
   "source": [
    "lend = data[data['Lend'] == 1]\n",
    "not_lend = data[data['Lend'] == 0]"
   ]
  },
  {
   "cell_type": "code",
   "execution_count": 34,
   "metadata": {},
   "outputs": [
    {
     "data": {
      "text/plain": [
       "Text(0, 0.5, 'Work time')"
      ]
     },
     "execution_count": 34,
     "metadata": {},
     "output_type": "execute_result"
    },
    {
     "data": {
      "image/png": "[encoded data removed]",
      "text/plain": [
       "<Figure size 432x288 with 1 Axes>"
      ]
     },
     "metadata": {
      "needs_background": "light"
     },
     "output_type": "display_data"
    }
   ],
   "source": [
    "fig, ax = plt.subplots()\n",
    "plt.scatter('Salary', 'Work time', data=lend, c='g')\n",
    "plt.scatter('Salary', 'Work time', data=not_lend, c='r')\n",
    "ax.set_xlabel('Salary')\n",
    "ax.set_ylabel('Work time')"
   ]
  },
  {
   "cell_type": "code",
   "execution_count": null,
   "metadata": {},
   "outputs": [],
   "source": []
  },
  {
   "cell_type": "code",
   "execution_count": null,
   "metadata": {},
   "outputs": [],
   "source": []
  }
 ],
 "metadata": {
  "kernelspec": {
   "display_name": "Python 3",
   "language": "python",
   "name": "python3"
  },
  "language_info": {
   "codemirror_mode": {
    "name": "ipython",
    "version": 3
   },
   "file_extension": ".py",
   "mimetype": "text/x-python",
   "name": "python",
   "nbconvert_exporter": "python",
   "pygments_lexer": "ipython3",
   "version": "3.8.3"
  }
 },
 "nbformat": 4,
 "nbformat_minor": 4
}
